{
  "nbformat": 4,
  "nbformat_minor": 0,
  "metadata": {
    "colab": {
      "provenance": [],
      "authorship_tag": "ABX9TyMIGZvN9g7fYdLV9NnEPRFc",
      "include_colab_link": true
    },
    "kernelspec": {
      "name": "python3",
      "display_name": "Python 3"
    },
    "language_info": {
      "name": "python"
    }
  },
  "cells": [
    {
      "cell_type": "markdown",
      "metadata": {
        "id": "view-in-github",
        "colab_type": "text"
      },
      "source": [
        "<a href=\"https://colab.research.google.com/github/Freekodelka/Python/blob/main/Untitled2.ipynb\" target=\"_parent\"><img src=\"https://colab.research.google.com/assets/colab-badge.svg\" alt=\"Open In Colab\"/></a>"
      ]
    },
    {
      "cell_type": "code",
      "execution_count": 4,
      "metadata": {
        "id": "gAUx2elffK4u",
        "colab": {
          "base_uri": "https://localhost:8080/"
        },
        "outputId": "49c9657d-4473-4e09-a146-3905bd8e7c6c"
      },
      "outputs": [
        {
          "output_type": "stream",
          "name": "stdout",
          "text": [
            "   robot  human\n",
            "0      1      0\n",
            "1      1      0\n",
            "2      1      0\n",
            "3      1      0\n",
            "4      1      0\n"
          ]
        }
      ],
      "source": [
        "import pandas as pd\n",
        "\n",
        "lst = ['robot'] * 10\n",
        "lst += ['human'] * 10\n",
        "data = pd.DataFrame({'whoAmI':lst})\n",
        "\n",
        "unique_values = data['whoAmI'].unique()\n",
        "for value in unique_values:\n",
        "    data[value] = (data['whoAmI'] == value).astype(int)\n",
        "\n",
        "data.drop('whoAmI', axis=1, inplace=True)\n",
        "print(data.head())"
      ]
    }
  ]
}